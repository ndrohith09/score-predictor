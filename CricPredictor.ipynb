{
  "nbformat": 4,
  "nbformat_minor": 0,
  "metadata": {
    "colab": {
      "name": "CricPredictor.ipynb",
      "provenance": [],
      "collapsed_sections": [],
      "toc_visible": true,
      "include_colab_link": true
    },
    "kernelspec": {
      "name": "python3",
      "display_name": "Python 3"
    },
    "language_info": {
      "name": "python"
    }
  },
  "cells": [
    {
      "cell_type": "markdown",
      "metadata": {
        "id": "view-in-github",
        "colab_type": "text"
      },
      "source": [
        "<a href=\"https://colab.research.google.com/github/sanjay-thiyagarajan/score-predictor/blob/main/CricPredictor.ipynb\" target=\"_parent\"><img src=\"https://colab.research.google.com/assets/colab-badge.svg\" alt=\"Open In Colab\"/></a>"
      ]
    },
    {
      "cell_type": "code",
      "metadata": {
        "id": "rNCTD1PSpmwd"
      },
      "source": [
        "!wget 'https://internalapp.nptel.ac.in/contest/reference_docs/ipl_csv2.zip'\n",
        "!mkdir '/content/dataset'\n",
        "!unzip '/content/ipl_csv2.zip' -d '/content/dataset'\n",
        "!wget \"https://internalapp.nptel.ac.in/contest/reference_docs/sampleinput_files.zip\"\n",
        "!mkdir tests\n",
        "!unzip '/content/sampleinput_files.zip' -d '/content/tests/'"
      ],
      "execution_count": null,
      "outputs": []
    },
    {
      "cell_type": "code",
      "metadata": {
        "id": "5loYEGB0p6GD"
      },
      "source": [
        "import pandas as pd\n",
        "import numpy as np\n",
        "from sklearn.ensemble import RandomForestRegressor\n",
        "from sklearn.metrics import r2_score\n",
        "import warnings\n",
        "warnings.filterwarnings('ignore')\n",
        "\n",
        "def parse(power_play_df, test_df):\n",
        "  test_df = test_df.drop(columns=['venue','innings','batting_team','bowling_team'])\n",
        "  cols = list(power_play_df.drop(columns=['runs_off_bat']).columns)\n",
        "  people = np.array(test_df['batsmen'] + ',' + test_df['bowlers'])\n",
        "  people = people.flatten()[0].split(',')\n",
        "  df = pd.DataFrame()\n",
        "  for c in cols:\n",
        "    df[c]=[0]\n",
        "  for p in people:\n",
        "    df[p] = 1\n",
        "  return df\n",
        "  \n",
        "def predictRuns(df):\n",
        "  power_play_df = pd.read_csv('https://raw.githubusercontent.com/sanjay-thiyagarajan/score-predictor/main/processed.csv')\n",
        "  power_play_df = power_play_df.drop(columns=['Unnamed: 0', 'Unnamed: 3'])\n",
        "  train_list = list(power_play_df.drop(columns=['runs_off_bat']).columns)\n",
        "  test_list = list(parse(power_play_df, df).columns)\n",
        "  missing = list(set(train_list) ^ set(test_list))\n",
        "  for m in missing:\n",
        "    power_play_df[m] = [0]*power_play_df.shape[0]\n",
        "  X_train = np.array(power_play_df.drop(columns=['runs_off_bat']))\n",
        "  Y_train = np.array(power_play_df[['runs_off_bat']])\n",
        "  reg = RandomForestRegressor(n_estimators=50)\n",
        "  reg.fit(X_train, Y_train)\n",
        "  X_test = np.array(parse(power_play_df, df))\n",
        "  return reg.predict(X_test)[0]"
      ],
      "execution_count": 69,
      "outputs": []
    },
    {
      "cell_type": "code",
      "metadata": {
        "id": "jqRIS8xx6XyM"
      },
      "source": [
        "dd = pd.read_csv('/content/tests/sampleinput_files/Apr-29-inn2-match1.csv')\n",
        "score = predictRuns(dd)"
      ],
      "execution_count": 76,
      "outputs": []
    },
    {
      "cell_type": "code",
      "metadata": {
        "colab": {
          "base_uri": "https://localhost:8080/"
        },
        "id": "0M4XPYTgeE2d",
        "outputId": "154890df-9db3-432e-e85d-4880bffab13d"
      },
      "source": [
        "score"
      ],
      "execution_count": 77,
      "outputs": [
        {
          "output_type": "execute_result",
          "data": {
            "text/plain": [
              "35.72"
            ]
          },
          "metadata": {
            "tags": []
          },
          "execution_count": 77
        }
      ]
    }
  ]
}