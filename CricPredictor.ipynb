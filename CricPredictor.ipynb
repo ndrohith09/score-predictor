{
  "nbformat": 4,
  "nbformat_minor": 0,
  "metadata": {
    "colab": {
      "name": "CricPredictor.ipynb",
      "provenance": [],
      "collapsed_sections": [],
      "toc_visible": true,
      "authorship_tag": "ABX9TyPzSEHpHP9glWdt3qyloPac",
      "include_colab_link": true
    },
    "kernelspec": {
      "name": "python3",
      "display_name": "Python 3"
    },
    "language_info": {
      "name": "python"
    }
  },
  "cells": [
    {
      "cell_type": "markdown",
      "metadata": {
        "id": "view-in-github",
        "colab_type": "text"
      },
      "source": [
        "<a href=\"https://colab.research.google.com/github/sanjay-thiyagarajan/score-predictor/blob/main/CricPredictor.ipynb\" target=\"_parent\"><img src=\"https://colab.research.google.com/assets/colab-badge.svg\" alt=\"Open In Colab\"/></a>"
      ]
    },
    {
      "cell_type": "code",
      "metadata": {
        "id": "rNCTD1PSpmwd"
      },
      "source": [
        "!wget 'https://internalapp.nptel.ac.in/contest/reference_docs/ipl_csv2.zip'\n",
        "!mkdir '/content/dataset'\n",
        "!unzip '/content/ipl_csv2.zip' -d '/content/dataset'"
      ],
      "execution_count": null,
      "outputs": []
    },
    {
      "cell_type": "code",
      "metadata": {
        "id": "5loYEGB0p6GD"
      },
      "source": [
        "import pandas as pd\n",
        "import numpy as np\n",
        "import os\n",
        "import glob\n",
        "from sklearn.linear_model import LinearRegression\n",
        "from sklearn.preprocessing import LabelEncoder, MinMaxScaler"
      ],
      "execution_count": 2,
      "outputs": []
    },
    {
      "cell_type": "code",
      "metadata": {
        "id": "7Wip7TAv5LLO",
        "colab": {
          "base_uri": "https://localhost:8080/"
        },
        "outputId": "3adf535f-d708-430f-9e8e-01e5726adb25"
      },
      "source": [
        "train_parent = []\n",
        "DATASET_DIR = '/content/dataset/'\n",
        "for file in os.listdir(DATASET_DIR):\n",
        "  filename = os.path.join(DATASET_DIR, file)\n",
        "  df = pd.read_csv(filename, error_bad_lines=False, header=0)\n",
        "  train_parent.append(df)\n",
        "train_parent = pd.concat(train_parent, axis=0, ignore_index=True)"
      ],
      "execution_count": 25,
      "outputs": [
        {
          "output_type": "stream",
          "text": [
            "/usr/local/lib/python3.7/dist-packages/IPython/core/interactiveshell.py:2718: DtypeWarning: Columns (1) have mixed types.Specify dtype option on import or set low_memory=False.\n",
            "  interactivity=interactivity, compiler=compiler, result=result)\n",
            "b'Skipping line 7: expected 1 fields, saw 3\\nSkipping line 10: expected 1 fields, saw 2\\nSkipping line 13: expected 1 fields, saw 3\\nSkipping line 26: expected 1 fields, saw 2\\nSkipping line 29: expected 1 fields, saw 2\\nSkipping line 30: expected 1 fields, saw 2\\nSkipping line 33: expected 1 fields, saw 2\\nSkipping line 37: expected 1 fields, saw 2\\nSkipping line 38: expected 1 fields, saw 2\\nSkipping line 39: expected 1 fields, saw 2\\nSkipping line 42: expected 1 fields, saw 4\\nSkipping line 47: expected 1 fields, saw 2\\nSkipping line 74: expected 1 fields, saw 4\\nSkipping line 78: expected 1 fields, saw 3\\nSkipping line 81: expected 1 fields, saw 2\\nSkipping line 84: expected 1 fields, saw 5\\nSkipping line 85: expected 1 fields, saw 2\\nSkipping line 88: expected 1 fields, saw 2\\nSkipping line 89: expected 1 fields, saw 3\\nSkipping line 92: expected 1 fields, saw 2\\nSkipping line 95: expected 1 fields, saw 2\\nSkipping line 924: expected 1 fields, saw 2\\nSkipping line 925: expected 1 fields, saw 3\\n'\n"
          ],
          "name": "stderr"
        }
      ]
    },
    {
      "cell_type": "code",
      "metadata": {
        "colab": {
          "base_uri": "https://localhost:8080/",
          "height": 402
        },
        "id": "unUL1XBnLpAP",
        "outputId": "1bb94586-b300-4476-a7af-a0667ac97414"
      },
      "source": [
        "train_parent = train_parent.drop(columns=['All Indian Premier League match data in CSV format'])\n",
        "d = {'runs_off_bat': 'sum'}\n",
        "train_parent = train_parent.groupby(['match_id','innings', 'striker', 'bowler'], as_index=False).aggregate(d)\n",
        "train_parent.drop(columns=['match_id', 'innings'])"
      ],
      "execution_count": 26,
      "outputs": [
        {
          "output_type": "execute_result",
          "data": {
            "text/html": [
              "<div>\n",
              "<style scoped>\n",
              "    .dataframe tbody tr th:only-of-type {\n",
              "        vertical-align: middle;\n",
              "    }\n",
              "\n",
              "    .dataframe tbody tr th {\n",
              "        vertical-align: top;\n",
              "    }\n",
              "\n",
              "    .dataframe thead th {\n",
              "        text-align: right;\n",
              "    }\n",
              "</style>\n",
              "<table border=\"1\" class=\"dataframe\">\n",
              "  <thead>\n",
              "    <tr style=\"text-align: right;\">\n",
              "      <th></th>\n",
              "      <th>striker</th>\n",
              "      <th>bowler</th>\n",
              "      <th>runs_off_bat</th>\n",
              "    </tr>\n",
              "  </thead>\n",
              "  <tbody>\n",
              "    <tr>\n",
              "      <th>0</th>\n",
              "      <td>BB McCullum</td>\n",
              "      <td>AA Noffke</td>\n",
              "      <td>48.0</td>\n",
              "    </tr>\n",
              "    <tr>\n",
              "      <th>1</th>\n",
              "      <td>BB McCullum</td>\n",
              "      <td>CL White</td>\n",
              "      <td>32.0</td>\n",
              "    </tr>\n",
              "    <tr>\n",
              "      <th>2</th>\n",
              "      <td>BB McCullum</td>\n",
              "      <td>JH Kallis</td>\n",
              "      <td>64.0</td>\n",
              "    </tr>\n",
              "    <tr>\n",
              "      <th>3</th>\n",
              "      <td>BB McCullum</td>\n",
              "      <td>P Kumar</td>\n",
              "      <td>64.0</td>\n",
              "    </tr>\n",
              "    <tr>\n",
              "      <th>4</th>\n",
              "      <td>BB McCullum</td>\n",
              "      <td>SB Joshi</td>\n",
              "      <td>42.0</td>\n",
              "    </tr>\n",
              "    <tr>\n",
              "      <th>...</th>\n",
              "      <td>...</td>\n",
              "      <td>...</td>\n",
              "      <td>...</td>\n",
              "    </tr>\n",
              "    <tr>\n",
              "      <th>40098</th>\n",
              "      <td>Mohammad Nabi</td>\n",
              "      <td>Shakib Al Hasan</td>\n",
              "      <td>4.0</td>\n",
              "    </tr>\n",
              "    <tr>\n",
              "      <th>40099</th>\n",
              "      <td>V Shankar</td>\n",
              "      <td>AD Russell</td>\n",
              "      <td>6.0</td>\n",
              "    </tr>\n",
              "    <tr>\n",
              "      <th>40100</th>\n",
              "      <td>V Shankar</td>\n",
              "      <td>CV Varun</td>\n",
              "      <td>16.0</td>\n",
              "    </tr>\n",
              "    <tr>\n",
              "      <th>40101</th>\n",
              "      <td>WP Saha</td>\n",
              "      <td>Harbhajan Singh</td>\n",
              "      <td>14.0</td>\n",
              "    </tr>\n",
              "    <tr>\n",
              "      <th>40102</th>\n",
              "      <td>WP Saha</td>\n",
              "      <td>Shakib Al Hasan</td>\n",
              "      <td>0.0</td>\n",
              "    </tr>\n",
              "  </tbody>\n",
              "</table>\n",
              "<p>40103 rows × 3 columns</p>\n",
              "</div>"
            ],
            "text/plain": [
              "             striker           bowler  runs_off_bat\n",
              "0        BB McCullum        AA Noffke          48.0\n",
              "1        BB McCullum         CL White          32.0\n",
              "2        BB McCullum        JH Kallis          64.0\n",
              "3        BB McCullum          P Kumar          64.0\n",
              "4        BB McCullum         SB Joshi          42.0\n",
              "...              ...              ...           ...\n",
              "40098  Mohammad Nabi  Shakib Al Hasan           4.0\n",
              "40099      V Shankar       AD Russell           6.0\n",
              "40100      V Shankar         CV Varun          16.0\n",
              "40101        WP Saha  Harbhajan Singh          14.0\n",
              "40102        WP Saha  Shakib Al Hasan           0.0\n",
              "\n",
              "[40103 rows x 3 columns]"
            ]
          },
          "metadata": {
            "tags": []
          },
          "execution_count": 26
        }
      ]
    },
    {
      "cell_type": "markdown",
      "metadata": {
        "id": "BSlM0RMKE04k"
      },
      "source": [
        "# **Checking with limited features**"
      ]
    },
    {
      "cell_type": "code",
      "metadata": {
        "colab": {
          "base_uri": "https://localhost:8080/",
          "height": 455
        },
        "id": "a3vZ3kwOEyqr",
        "outputId": "ef62efe4-a2c5-4415-a891-6a93536a47ed"
      },
      "source": [
        "featured_df = train_parent[['striker', 'runs_off_bat', 'bowler']]\n",
        "featured_df = featured_df.dropna()\n",
        "people_encoder = LabelEncoder()\n",
        "people = list(np.array(featured_df[['striker']]).flatten()) + list(np.array(featured_df[['bowler']]).flatten())\n",
        "people = list(set(people))\n",
        "people_encoder.fit(people)\n",
        "featured_df[['striker']] = pd.DataFrame(np.array(people_encoder.transform(featured_df[['striker']]), dtype='int32'))\n",
        "featured_df[['bowler']] = pd.DataFrame(np.array(people_encoder.transform(featured_df[['bowler']]), dtype='int32'))\n",
        "featured_df = featured_df.dropna()\n",
        "featured_df"
      ],
      "execution_count": null,
      "outputs": [
        {
          "output_type": "stream",
          "text": [
            "/usr/local/lib/python3.7/dist-packages/sklearn/preprocessing/_label.py:268: DataConversionWarning: A column-vector y was passed when a 1d array was expected. Please change the shape of y to (n_samples, ), for example using ravel().\n",
            "  y = column_or_1d(y, warn=True)\n"
          ],
          "name": "stderr"
        },
        {
          "output_type": "execute_result",
          "data": {
            "text/html": [
              "<div>\n",
              "<style scoped>\n",
              "    .dataframe tbody tr th:only-of-type {\n",
              "        vertical-align: middle;\n",
              "    }\n",
              "\n",
              "    .dataframe tbody tr th {\n",
              "        vertical-align: top;\n",
              "    }\n",
              "\n",
              "    .dataframe thead th {\n",
              "        text-align: right;\n",
              "    }\n",
              "</style>\n",
              "<table border=\"1\" class=\"dataframe\">\n",
              "  <thead>\n",
              "    <tr style=\"text-align: right;\">\n",
              "      <th></th>\n",
              "      <th>striker</th>\n",
              "      <th>runs_off_bat</th>\n",
              "      <th>bowler</th>\n",
              "    </tr>\n",
              "  </thead>\n",
              "  <tbody>\n",
              "    <tr>\n",
              "      <th>0</th>\n",
              "      <td>331.0</td>\n",
              "      <td>0.0</td>\n",
              "      <td>1.0</td>\n",
              "    </tr>\n",
              "    <tr>\n",
              "      <th>1</th>\n",
              "      <td>331.0</td>\n",
              "      <td>0.0</td>\n",
              "      <td>1.0</td>\n",
              "    </tr>\n",
              "    <tr>\n",
              "      <th>2</th>\n",
              "      <td>331.0</td>\n",
              "      <td>0.0</td>\n",
              "      <td>1.0</td>\n",
              "    </tr>\n",
              "    <tr>\n",
              "      <th>3</th>\n",
              "      <td>474.0</td>\n",
              "      <td>0.0</td>\n",
              "      <td>1.0</td>\n",
              "    </tr>\n",
              "    <tr>\n",
              "      <th>4</th>\n",
              "      <td>474.0</td>\n",
              "      <td>0.0</td>\n",
              "      <td>1.0</td>\n",
              "    </tr>\n",
              "    <tr>\n",
              "      <th>...</th>\n",
              "      <td>...</td>\n",
              "      <td>...</td>\n",
              "      <td>...</td>\n",
              "    </tr>\n",
              "    <tr>\n",
              "      <th>388703</th>\n",
              "      <td>551.0</td>\n",
              "      <td>1.0</td>\n",
              "      <td>25.0</td>\n",
              "    </tr>\n",
              "    <tr>\n",
              "      <th>388704</th>\n",
              "      <td>551.0</td>\n",
              "      <td>1.0</td>\n",
              "      <td>25.0</td>\n",
              "    </tr>\n",
              "    <tr>\n",
              "      <th>388705</th>\n",
              "      <td>551.0</td>\n",
              "      <td>1.0</td>\n",
              "      <td>25.0</td>\n",
              "    </tr>\n",
              "    <tr>\n",
              "      <th>388706</th>\n",
              "      <td>157.0</td>\n",
              "      <td>1.0</td>\n",
              "      <td>25.0</td>\n",
              "    </tr>\n",
              "    <tr>\n",
              "      <th>388707</th>\n",
              "      <td>6.0</td>\n",
              "      <td>6.0</td>\n",
              "      <td>25.0</td>\n",
              "    </tr>\n",
              "  </tbody>\n",
              "</table>\n",
              "<p>387820 rows × 3 columns</p>\n",
              "</div>"
            ],
            "text/plain": [
              "        striker  runs_off_bat  bowler\n",
              "0         331.0           0.0     1.0\n",
              "1         331.0           0.0     1.0\n",
              "2         331.0           0.0     1.0\n",
              "3         474.0           0.0     1.0\n",
              "4         474.0           0.0     1.0\n",
              "...         ...           ...     ...\n",
              "388703    551.0           1.0    25.0\n",
              "388704    551.0           1.0    25.0\n",
              "388705    551.0           1.0    25.0\n",
              "388706    157.0           1.0    25.0\n",
              "388707      6.0           6.0    25.0\n",
              "\n",
              "[387820 rows x 3 columns]"
            ]
          },
          "metadata": {
            "tags": []
          },
          "execution_count": 85
        }
      ]
    },
    {
      "cell_type": "code",
      "metadata": {
        "colab": {
          "base_uri": "https://localhost:8080/"
        },
        "id": "-xCXqSe2FoMq",
        "outputId": "c745699a-08c7-4a17-8e39-789060e1aac0"
      },
      "source": [
        "X_train = np.array(featured_df.drop(columns=['runs_off_bat']))\n",
        "Y_train = np.array(featured_df[['runs_off_bat']])\n",
        "regressor = LinearRegression()\n",
        "regressor.fit(X_train, Y_train)"
      ],
      "execution_count": null,
      "outputs": [
        {
          "output_type": "execute_result",
          "data": {
            "text/plain": [
              "LinearRegression(copy_X=True, fit_intercept=True, n_jobs=None, normalize=False)"
            ]
          },
          "metadata": {
            "tags": []
          },
          "execution_count": 86
        }
      ]
    },
    {
      "cell_type": "code",
      "metadata": {
        "colab": {
          "base_uri": "https://localhost:8080/"
        },
        "id": "U5VIHAYBSDK2",
        "outputId": "53964640-f1e1-404d-9056-a7c3e7563340"
      },
      "source": [
        "sum(regressor.predict(X_train))"
      ],
      "execution_count": null,
      "outputs": [
        {
          "output_type": "execute_result",
          "data": {
            "text/plain": [
              "array([481306.99999996])"
            ]
          },
          "metadata": {
            "tags": []
          },
          "execution_count": 88
        }
      ]
    },
    {
      "cell_type": "code",
      "metadata": {
        "id": "sij16PLIZbYc",
        "colab": {
          "base_uri": "https://localhost:8080/"
        },
        "outputId": "1b8b2a38-c266-45bd-a788-45a2cf9e10f3"
      },
      "source": [
        "sum(Y_train)"
      ],
      "execution_count": null,
      "outputs": [
        {
          "output_type": "execute_result",
          "data": {
            "text/plain": [
              "array([481307.])"
            ]
          },
          "metadata": {
            "tags": []
          },
          "execution_count": 89
        }
      ]
    },
    {
      "cell_type": "code",
      "metadata": {
        "id": "zA8Imr1FZeM2"
      },
      "source": [
        ""
      ],
      "execution_count": null,
      "outputs": []
    }
  ]
}