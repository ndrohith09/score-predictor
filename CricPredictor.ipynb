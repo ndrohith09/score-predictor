{
  "nbformat": 4,
  "nbformat_minor": 0,
  "metadata": {
    "colab": {
      "name": "CricPredictor.ipynb",
      "provenance": [],
      "collapsed_sections": [],
      "toc_visible": true,
      "authorship_tag": "ABX9TyNBFMMqnx1CaFVj2BdWuNDC",
      "include_colab_link": true
    },
    "kernelspec": {
      "name": "python3",
      "display_name": "Python 3"
    },
    "language_info": {
      "name": "python"
    }
  },
  "cells": [
    {
      "cell_type": "markdown",
      "metadata": {
        "id": "view-in-github",
        "colab_type": "text"
      },
      "source": [
        "<a href=\"https://colab.research.google.com/github/sanjay-thiyagarajan/score-predictor/blob/main/CricPredictor.ipynb\" target=\"_parent\"><img src=\"https://colab.research.google.com/assets/colab-badge.svg\" alt=\"Open In Colab\"/></a>"
      ]
    },
    {
      "cell_type": "code",
      "metadata": {
        "id": "rNCTD1PSpmwd"
      },
      "source": [
        "!wget 'https://internalapp.nptel.ac.in/contest/reference_docs/ipl_csv2.zip'\n",
        "!mkdir '/content/dataset'\n",
        "!unzip '/content/ipl_csv2.zip' -d '/content/dataset'"
      ],
      "execution_count": null,
      "outputs": []
    },
    {
      "cell_type": "code",
      "metadata": {
        "id": "5loYEGB0p6GD"
      },
      "source": [
        "import pandas as pd\n",
        "import numpy as np\n",
        "import os\n",
        "import glob\n",
        "from sklearn.linear_model import LinearRegression\n",
        "from sklearn.preprocessing import LabelEncoder, MinMaxScaler\n",
        "import warnings\n",
        "warnings.filterwarnings('ignore')"
      ],
      "execution_count": 145,
      "outputs": []
    },
    {
      "cell_type": "code",
      "metadata": {
        "id": "7Wip7TAv5LLO"
      },
      "source": [
        "train_parent = []\n",
        "DATASET_DIR = '/content/dataset/'\n",
        "for file in os.listdir(DATASET_DIR):\n",
        "  filename = os.path.join(DATASET_DIR, file)\n",
        "  df = pd.read_csv(filename, error_bad_lines=False, header=0)\n",
        "  train_parent.append(df)\n",
        "train_parent = pd.concat(train_parent, axis=0, ignore_index=True)"
      ],
      "execution_count": null,
      "outputs": []
    },
    {
      "cell_type": "code",
      "metadata": {
        "colab": {
          "base_uri": "https://localhost:8080/"
        },
        "id": "_oo0ozKpdgV0",
        "outputId": "906cba05-10b3-41bd-f04f-209b4264dc49"
      },
      "source": [
        "people_encoder = LabelEncoder()\n",
        "people = list(np.array(train_parent[['striker']]).flatten()) + list(np.array(train_parent[['bowler']]).flatten())\n",
        "people = list(set(people))\n",
        "people_encoder.fit(people)"
      ],
      "execution_count": 147,
      "outputs": [
        {
          "output_type": "execute_result",
          "data": {
            "text/plain": [
              "LabelEncoder()"
            ]
          },
          "metadata": {
            "tags": []
          },
          "execution_count": 147
        }
      ]
    },
    {
      "cell_type": "code",
      "metadata": {
        "id": "unUL1XBnLpAP"
      },
      "source": [
        "train_parent = train_parent.drop(columns=['All Indian Premier League match data in CSV format'])\n",
        "d = {'runs_off_bat': 'sum', 'striker':', '.join, 'bowler':', '.join}\n",
        "train_parent = train_parent.groupby(['match_id','innings'], as_index=False).aggregate(d)"
      ],
      "execution_count": 148,
      "outputs": []
    },
    {
      "cell_type": "code",
      "metadata": {
        "colab": {
          "base_uri": "https://localhost:8080/",
          "height": 402
        },
        "id": "uArvinOAUhIf",
        "outputId": "c21ff716-adcd-492a-942a-5432de34f3cc"
      },
      "source": [
        "strikers = train_parent['striker'].values\n",
        "bt_unique = []\n",
        "for s in strikers:\n",
        "  st = s.split(', ')\n",
        "  st = list(set(st))\n",
        "  bt_unique.append(', '.join(st))\n",
        "bowlers = train_parent['bowler'].values\n",
        "bw_unique = []\n",
        "for s in bowlers:\n",
        "  st = s.split(', ')\n",
        "  st = list(set(st))\n",
        "  bw_unique.append(', '.join(st))\n",
        "train_parent['striker'] = pd.DataFrame(bt_unique)\n",
        "train_parent['bowler'] = pd.DataFrame(bw_unique)\n",
        "train_parent.drop(columns=['match_id', 'innings'])"
      ],
      "execution_count": 149,
      "outputs": [
        {
          "output_type": "execute_result",
          "data": {
            "text/html": [
              "<div>\n",
              "<style scoped>\n",
              "    .dataframe tbody tr th:only-of-type {\n",
              "        vertical-align: middle;\n",
              "    }\n",
              "\n",
              "    .dataframe tbody tr th {\n",
              "        vertical-align: top;\n",
              "    }\n",
              "\n",
              "    .dataframe thead th {\n",
              "        text-align: right;\n",
              "    }\n",
              "</style>\n",
              "<table border=\"1\" class=\"dataframe\">\n",
              "  <thead>\n",
              "    <tr style=\"text-align: right;\">\n",
              "      <th></th>\n",
              "      <th>runs_off_bat</th>\n",
              "      <th>striker</th>\n",
              "      <th>bowler</th>\n",
              "    </tr>\n",
              "  </thead>\n",
              "  <tbody>\n",
              "    <tr>\n",
              "      <th>0</th>\n",
              "      <td>410.0</td>\n",
              "      <td>BB McCullum, RT Ponting, Mohammad Hafeez, SC G...</td>\n",
              "      <td>Z Khan, JH Kallis, AA Noffke, CL White, SB Jos...</td>\n",
              "    </tr>\n",
              "    <tr>\n",
              "      <th>1</th>\n",
              "      <td>126.0</td>\n",
              "      <td>Z Khan, JH Kallis, V Kohli, R Dravid, AA Noffk...</td>\n",
              "      <td>I Sharma, AB Agarkar, LR Shukla, AB Dinda, SC ...</td>\n",
              "    </tr>\n",
              "    <tr>\n",
              "      <th>2</th>\n",
              "      <td>468.0</td>\n",
              "      <td>MEK Hussey, SK Raina, ML Hayden, JDP Oram, MS ...</td>\n",
              "      <td>B Lee, IK Pathan, PP Chawla, K Goel, WA Mota, ...</td>\n",
              "    </tr>\n",
              "    <tr>\n",
              "      <th>3</th>\n",
              "      <td>392.0</td>\n",
              "      <td>Yuvraj Singh, IK Pathan, SM Katich, K Goel, KC...</td>\n",
              "      <td>Joginder Sharma, JDP Oram, M Muralitharan, MS ...</td>\n",
              "    </tr>\n",
              "    <tr>\n",
              "      <th>4</th>\n",
              "      <td>244.0</td>\n",
              "      <td>SK Trivedi, DS Lehmann, RA Jadeja, M Rawat, T ...</td>\n",
              "      <td>DL Vettori, MF Maharoof, GD McGrath, R Bhatia,...</td>\n",
              "    </tr>\n",
              "    <tr>\n",
              "      <th>...</th>\n",
              "      <td>...</td>\n",
              "      <td>...</td>\n",
              "      <td>...</td>\n",
              "    </tr>\n",
              "    <tr>\n",
              "      <th>1659</th>\n",
              "      <td>296.0</td>\n",
              "      <td>KA Jamieson, RM Patidar, Shahbaz Ahmed, HV Pat...</td>\n",
              "      <td>TA Boult, KH Pandya, M Jansen, RD Chahar, JJ B...</td>\n",
              "    </tr>\n",
              "    <tr>\n",
              "      <th>1660</th>\n",
              "      <td>356.0</td>\n",
              "      <td>MM Ali, SK Raina, RA Jadeja, MS Dhoni, AT Rayu...</td>\n",
              "      <td>R Ashwin, CR Woakes, A Mishra, MP Stoinis, Ave...</td>\n",
              "    </tr>\n",
              "    <tr>\n",
              "      <th>1661</th>\n",
              "      <td>372.0</td>\n",
              "      <td>MP Stoinis, RR Pant, PP Shaw, S Dhawan</td>\n",
              "      <td>SN Thakur, MM Ali, DJ Bravo, RA Jadeja, DL Cha...</td>\n",
              "    </tr>\n",
              "    <tr>\n",
              "      <th>1662</th>\n",
              "      <td>360.0</td>\n",
              "      <td>EJG Morgan, KD Karthik, N Rana, Shubman Gill, ...</td>\n",
              "      <td>T Natarajan, Rashid Khan, Sandeep Sharma, Moha...</td>\n",
              "    </tr>\n",
              "    <tr>\n",
              "      <th>1663</th>\n",
              "      <td>340.0</td>\n",
              "      <td>MK Pandey, Mohammad Nabi, WP Saha, DA Warner, ...</td>\n",
              "      <td>PJ Cummins, CV Varun, Harbhajan Singh, M Prasi...</td>\n",
              "    </tr>\n",
              "  </tbody>\n",
              "</table>\n",
              "<p>1664 rows × 3 columns</p>\n",
              "</div>"
            ],
            "text/plain": [
              "      runs_off_bat  ...                                             bowler\n",
              "0            410.0  ...  Z Khan, JH Kallis, AA Noffke, CL White, SB Jos...\n",
              "1            126.0  ...  I Sharma, AB Agarkar, LR Shukla, AB Dinda, SC ...\n",
              "2            468.0  ...  B Lee, IK Pathan, PP Chawla, K Goel, WA Mota, ...\n",
              "3            392.0  ...  Joginder Sharma, JDP Oram, M Muralitharan, MS ...\n",
              "4            244.0  ...  DL Vettori, MF Maharoof, GD McGrath, R Bhatia,...\n",
              "...            ...  ...                                                ...\n",
              "1659         296.0  ...  TA Boult, KH Pandya, M Jansen, RD Chahar, JJ B...\n",
              "1660         356.0  ...  R Ashwin, CR Woakes, A Mishra, MP Stoinis, Ave...\n",
              "1661         372.0  ...  SN Thakur, MM Ali, DJ Bravo, RA Jadeja, DL Cha...\n",
              "1662         360.0  ...  T Natarajan, Rashid Khan, Sandeep Sharma, Moha...\n",
              "1663         340.0  ...  PJ Cummins, CV Varun, Harbhajan Singh, M Prasi...\n",
              "\n",
              "[1664 rows x 3 columns]"
            ]
          },
          "metadata": {
            "tags": []
          },
          "execution_count": 149
        }
      ]
    }
  ]
}