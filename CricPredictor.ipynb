{
  "nbformat": 4,
  "nbformat_minor": 0,
  "metadata": {
    "colab": {
      "name": "CricPredictor.ipynb",
      "provenance": [],
      "collapsed_sections": [],
      "toc_visible": true,
      "authorship_tag": "ABX9TyOFJXORync/A/0x4xT906iq",
      "include_colab_link": true
    },
    "kernelspec": {
      "name": "python3",
      "display_name": "Python 3"
    },
    "language_info": {
      "name": "python"
    }
  },
  "cells": [
    {
      "cell_type": "markdown",
      "metadata": {
        "id": "view-in-github",
        "colab_type": "text"
      },
      "source": [
        "<a href=\"https://colab.research.google.com/github/sanjay-thiyagarajan/score-predictor/blob/main/CricPredictor.ipynb\" target=\"_parent\"><img src=\"https://colab.research.google.com/assets/colab-badge.svg\" alt=\"Open In Colab\"/></a>"
      ]
    },
    {
      "cell_type": "code",
      "metadata": {
        "id": "rNCTD1PSpmwd"
      },
      "source": [
        "!wget 'https://internalapp.nptel.ac.in/contest/reference_docs/ipl_csv2.zip'\n",
        "!mkdir '/content/dataset'\n",
        "!unzip '/content/ipl_csv2.zip' -d '/content/dataset'"
      ],
      "execution_count": null,
      "outputs": []
    },
    {
      "cell_type": "code",
      "metadata": {
        "id": "5loYEGB0p6GD"
      },
      "source": [
        "import pandas as pd\n",
        "import numpy as np\n",
        "import os\n",
        "import glob\n",
        "from sklearn.linear_model import LinearRegression\n",
        "from sklearn.preprocessing import LabelEncoder, MinMaxScaler\n",
        "import warnings\n",
        "warnings.filterwarnings('ignore')"
      ],
      "execution_count": 139,
      "outputs": []
    },
    {
      "cell_type": "code",
      "metadata": {
        "id": "7Wip7TAv5LLO"
      },
      "source": [
        "train_parent = []\n",
        "DATASET_DIR = '/content/dataset/'\n",
        "for file in os.listdir(DATASET_DIR):\n",
        "  filename = os.path.join(DATASET_DIR, file)\n",
        "  df = pd.read_csv(filename, error_bad_lines=False, header=0)\n",
        "  train_parent.append(df)\n",
        "train_parent = pd.concat(train_parent, axis=0, ignore_index=True)"
      ],
      "execution_count": null,
      "outputs": []
    },
    {
      "cell_type": "code",
      "metadata": {
        "colab": {
          "base_uri": "https://localhost:8080/"
        },
        "id": "_oo0ozKpdgV0",
        "outputId": "850590e6-4a0f-4824-b131-7b490b5191a3"
      },
      "source": [
        "people_encoder = LabelEncoder()\n",
        "people = list(np.array(train_parent[['striker']]).flatten()) + list(np.array(train_parent[['bowler']]).flatten())\n",
        "people = list(set(people))\n",
        "people_encoder.fit(people)"
      ],
      "execution_count": 141,
      "outputs": [
        {
          "output_type": "execute_result",
          "data": {
            "text/plain": [
              "LabelEncoder()"
            ]
          },
          "metadata": {
            "tags": []
          },
          "execution_count": 141
        }
      ]
    },
    {
      "cell_type": "code",
      "metadata": {
        "colab": {
          "base_uri": "https://localhost:8080/",
          "height": 402
        },
        "id": "unUL1XBnLpAP",
        "outputId": "39195484-cf4a-4299-eb83-fb8464e2e24f"
      },
      "source": [
        "train_parent = train_parent.drop(columns=['All Indian Premier League match data in CSV format'])\n",
        "d = {'runs_off_bat': 'sum', 'striker':', '.join, 'bowler':', '.join}\n",
        "train_parent = train_parent.groupby(['match_id','innings'], as_index=False).aggregate(d)\n",
        "train_parent"
      ],
      "execution_count": 142,
      "outputs": [
        {
          "output_type": "execute_result",
          "data": {
            "text/html": [
              "<div>\n",
              "<style scoped>\n",
              "    .dataframe tbody tr th:only-of-type {\n",
              "        vertical-align: middle;\n",
              "    }\n",
              "\n",
              "    .dataframe tbody tr th {\n",
              "        vertical-align: top;\n",
              "    }\n",
              "\n",
              "    .dataframe thead th {\n",
              "        text-align: right;\n",
              "    }\n",
              "</style>\n",
              "<table border=\"1\" class=\"dataframe\">\n",
              "  <thead>\n",
              "    <tr style=\"text-align: right;\">\n",
              "      <th></th>\n",
              "      <th>match_id</th>\n",
              "      <th>innings</th>\n",
              "      <th>runs_off_bat</th>\n",
              "      <th>striker</th>\n",
              "      <th>bowler</th>\n",
              "    </tr>\n",
              "  </thead>\n",
              "  <tbody>\n",
              "    <tr>\n",
              "      <th>0</th>\n",
              "      <td>335982.0</td>\n",
              "      <td>1.0</td>\n",
              "      <td>410.0</td>\n",
              "      <td>SC Ganguly, BB McCullum, BB McCullum, BB McCul...</td>\n",
              "      <td>P Kumar, P Kumar, P Kumar, P Kumar, P Kumar, P...</td>\n",
              "    </tr>\n",
              "    <tr>\n",
              "      <th>1</th>\n",
              "      <td>335982.0</td>\n",
              "      <td>2.0</td>\n",
              "      <td>126.0</td>\n",
              "      <td>R Dravid, W Jaffer, W Jaffer, W Jaffer, R Drav...</td>\n",
              "      <td>AB Dinda, AB Dinda, AB Dinda, AB Dinda, AB Din...</td>\n",
              "    </tr>\n",
              "    <tr>\n",
              "      <th>2</th>\n",
              "      <td>335983.0</td>\n",
              "      <td>1.0</td>\n",
              "      <td>468.0</td>\n",
              "      <td>PA Patel, PA Patel, PA Patel, ML Hayden, ML Ha...</td>\n",
              "      <td>B Lee, B Lee, B Lee, B Lee, B Lee, B Lee, S Sr...</td>\n",
              "    </tr>\n",
              "    <tr>\n",
              "      <th>3</th>\n",
              "      <td>335983.0</td>\n",
              "      <td>2.0</td>\n",
              "      <td>392.0</td>\n",
              "      <td>K Goel, K Goel, K Goel, K Goel, JR Hopes, JR H...</td>\n",
              "      <td>JDP Oram, JDP Oram, JDP Oram, JDP Oram, JDP Or...</td>\n",
              "    </tr>\n",
              "    <tr>\n",
              "      <th>4</th>\n",
              "      <td>335984.0</td>\n",
              "      <td>1.0</td>\n",
              "      <td>244.0</td>\n",
              "      <td>T Kohli, T Kohli, T Kohli, T Kohli, T Kohli, T...</td>\n",
              "      <td>GD McGrath, GD McGrath, GD McGrath, GD McGrath...</td>\n",
              "    </tr>\n",
              "    <tr>\n",
              "      <th>...</th>\n",
              "      <td>...</td>\n",
              "      <td>...</td>\n",
              "      <td>...</td>\n",
              "      <td>...</td>\n",
              "      <td>...</td>\n",
              "    </tr>\n",
              "    <tr>\n",
              "      <th>1659</th>\n",
              "      <td>1254058.0</td>\n",
              "      <td>2.0</td>\n",
              "      <td>296.0</td>\n",
              "      <td>Washington Sundar, Washington Sundar, Washingt...</td>\n",
              "      <td>TA Boult, TA Boult, TA Boult, TA Boult, TA Bou...</td>\n",
              "    </tr>\n",
              "    <tr>\n",
              "      <th>1660</th>\n",
              "      <td>1254059.0</td>\n",
              "      <td>1.0</td>\n",
              "      <td>356.0</td>\n",
              "      <td>RD Gaikwad, RD Gaikwad, RD Gaikwad, RD Gaikwad...</td>\n",
              "      <td>CR Woakes, CR Woakes, CR Woakes, CR Woakes, CR...</td>\n",
              "    </tr>\n",
              "    <tr>\n",
              "      <th>1661</th>\n",
              "      <td>1254059.0</td>\n",
              "      <td>2.0</td>\n",
              "      <td>372.0</td>\n",
              "      <td>PP Shaw, PP Shaw, PP Shaw, S Dhawan, S Dhawan,...</td>\n",
              "      <td>DL Chahar, DL Chahar, DL Chahar, DL Chahar, DL...</td>\n",
              "    </tr>\n",
              "    <tr>\n",
              "      <th>1662</th>\n",
              "      <td>1254060.0</td>\n",
              "      <td>1.0</td>\n",
              "      <td>360.0</td>\n",
              "      <td>N Rana, N Rana, N Rana, N Rana, N Rana, N Rana...</td>\n",
              "      <td>B Kumar, B Kumar, B Kumar, B Kumar, B Kumar, B...</td>\n",
              "    </tr>\n",
              "    <tr>\n",
              "      <th>1663</th>\n",
              "      <td>1254060.0</td>\n",
              "      <td>2.0</td>\n",
              "      <td>340.0</td>\n",
              "      <td>WP Saha, WP Saha, WP Saha, DA Warner, WP Saha,...</td>\n",
              "      <td>Harbhajan Singh, Harbhajan Singh, Harbhajan Si...</td>\n",
              "    </tr>\n",
              "  </tbody>\n",
              "</table>\n",
              "<p>1664 rows × 5 columns</p>\n",
              "</div>"
            ],
            "text/plain": [
              "       match_id  ...                                             bowler\n",
              "0      335982.0  ...  P Kumar, P Kumar, P Kumar, P Kumar, P Kumar, P...\n",
              "1      335982.0  ...  AB Dinda, AB Dinda, AB Dinda, AB Dinda, AB Din...\n",
              "2      335983.0  ...  B Lee, B Lee, B Lee, B Lee, B Lee, B Lee, S Sr...\n",
              "3      335983.0  ...  JDP Oram, JDP Oram, JDP Oram, JDP Oram, JDP Or...\n",
              "4      335984.0  ...  GD McGrath, GD McGrath, GD McGrath, GD McGrath...\n",
              "...         ...  ...                                                ...\n",
              "1659  1254058.0  ...  TA Boult, TA Boult, TA Boult, TA Boult, TA Bou...\n",
              "1660  1254059.0  ...  CR Woakes, CR Woakes, CR Woakes, CR Woakes, CR...\n",
              "1661  1254059.0  ...  DL Chahar, DL Chahar, DL Chahar, DL Chahar, DL...\n",
              "1662  1254060.0  ...  B Kumar, B Kumar, B Kumar, B Kumar, B Kumar, B...\n",
              "1663  1254060.0  ...  Harbhajan Singh, Harbhajan Singh, Harbhajan Si...\n",
              "\n",
              "[1664 rows x 5 columns]"
            ]
          },
          "metadata": {
            "tags": []
          },
          "execution_count": 142
        }
      ]
    },
    {
      "cell_type": "code",
      "metadata": {
        "id": "uArvinOAUhIf"
      },
      "source": [
        "strikers = train_parent['striker'].values\n",
        "bt_unique = []\n",
        "for s in strikers:\n",
        "  st = s.split(', ')\n",
        "  st = list(set(st))\n",
        "  bt_unique.append(', '.join(st))\n",
        "bowlers = train_parent['bowler'].values\n",
        "bw_unique = []\n",
        "for s in bowlers:\n",
        "  st = s.split(', ')\n",
        "  st = list(set(st))\n",
        "  bw_unique.append(', '.join(st))\n",
        "train_parent['striker'] = pd.DataFrame(bt_unique)\n",
        "train_parent['bowler'] = pd.DataFrame(bw_unique)"
      ],
      "execution_count": 143,
      "outputs": []
    },
    {
      "cell_type": "code",
      "metadata": {
        "colab": {
          "base_uri": "https://localhost:8080/",
          "height": 402
        },
        "id": "bsVr0CAAcM7y",
        "outputId": "80a6bc9d-effa-4cbf-de88-ac843d21ec94"
      },
      "source": [
        "train_parent.drop(columns=['match_id', 'innings'])"
      ],
      "execution_count": 144,
      "outputs": [
        {
          "output_type": "execute_result",
          "data": {
            "text/html": [
              "<div>\n",
              "<style scoped>\n",
              "    .dataframe tbody tr th:only-of-type {\n",
              "        vertical-align: middle;\n",
              "    }\n",
              "\n",
              "    .dataframe tbody tr th {\n",
              "        vertical-align: top;\n",
              "    }\n",
              "\n",
              "    .dataframe thead th {\n",
              "        text-align: right;\n",
              "    }\n",
              "</style>\n",
              "<table border=\"1\" class=\"dataframe\">\n",
              "  <thead>\n",
              "    <tr style=\"text-align: right;\">\n",
              "      <th></th>\n",
              "      <th>runs_off_bat</th>\n",
              "      <th>striker</th>\n",
              "      <th>bowler</th>\n",
              "    </tr>\n",
              "  </thead>\n",
              "  <tbody>\n",
              "    <tr>\n",
              "      <th>0</th>\n",
              "      <td>410.0</td>\n",
              "      <td>BB McCullum, RT Ponting, Mohammad Hafeez, SC G...</td>\n",
              "      <td>Z Khan, JH Kallis, AA Noffke, CL White, SB Jos...</td>\n",
              "    </tr>\n",
              "    <tr>\n",
              "      <th>1</th>\n",
              "      <td>126.0</td>\n",
              "      <td>Z Khan, JH Kallis, V Kohli, R Dravid, AA Noffk...</td>\n",
              "      <td>I Sharma, AB Agarkar, LR Shukla, AB Dinda, SC ...</td>\n",
              "    </tr>\n",
              "    <tr>\n",
              "      <th>2</th>\n",
              "      <td>468.0</td>\n",
              "      <td>MEK Hussey, SK Raina, ML Hayden, JDP Oram, MS ...</td>\n",
              "      <td>B Lee, IK Pathan, PP Chawla, K Goel, WA Mota, ...</td>\n",
              "    </tr>\n",
              "    <tr>\n",
              "      <th>3</th>\n",
              "      <td>392.0</td>\n",
              "      <td>Yuvraj Singh, IK Pathan, SM Katich, K Goel, KC...</td>\n",
              "      <td>Joginder Sharma, JDP Oram, M Muralitharan, MS ...</td>\n",
              "    </tr>\n",
              "    <tr>\n",
              "      <th>4</th>\n",
              "      <td>244.0</td>\n",
              "      <td>SK Trivedi, DS Lehmann, RA Jadeja, M Rawat, T ...</td>\n",
              "      <td>DL Vettori, MF Maharoof, GD McGrath, R Bhatia,...</td>\n",
              "    </tr>\n",
              "    <tr>\n",
              "      <th>...</th>\n",
              "      <td>...</td>\n",
              "      <td>...</td>\n",
              "      <td>...</td>\n",
              "    </tr>\n",
              "    <tr>\n",
              "      <th>1659</th>\n",
              "      <td>296.0</td>\n",
              "      <td>KA Jamieson, RM Patidar, Shahbaz Ahmed, HV Pat...</td>\n",
              "      <td>TA Boult, KH Pandya, M Jansen, RD Chahar, JJ B...</td>\n",
              "    </tr>\n",
              "    <tr>\n",
              "      <th>1660</th>\n",
              "      <td>356.0</td>\n",
              "      <td>MM Ali, SK Raina, RA Jadeja, MS Dhoni, AT Rayu...</td>\n",
              "      <td>R Ashwin, CR Woakes, A Mishra, MP Stoinis, Ave...</td>\n",
              "    </tr>\n",
              "    <tr>\n",
              "      <th>1661</th>\n",
              "      <td>372.0</td>\n",
              "      <td>MP Stoinis, RR Pant, PP Shaw, S Dhawan</td>\n",
              "      <td>SN Thakur, MM Ali, DJ Bravo, RA Jadeja, DL Cha...</td>\n",
              "    </tr>\n",
              "    <tr>\n",
              "      <th>1662</th>\n",
              "      <td>360.0</td>\n",
              "      <td>EJG Morgan, KD Karthik, N Rana, Shubman Gill, ...</td>\n",
              "      <td>T Natarajan, Rashid Khan, Sandeep Sharma, Moha...</td>\n",
              "    </tr>\n",
              "    <tr>\n",
              "      <th>1663</th>\n",
              "      <td>340.0</td>\n",
              "      <td>MK Pandey, Mohammad Nabi, WP Saha, DA Warner, ...</td>\n",
              "      <td>PJ Cummins, CV Varun, Harbhajan Singh, M Prasi...</td>\n",
              "    </tr>\n",
              "  </tbody>\n",
              "</table>\n",
              "<p>1664 rows × 3 columns</p>\n",
              "</div>"
            ],
            "text/plain": [
              "      runs_off_bat  ...                                             bowler\n",
              "0            410.0  ...  Z Khan, JH Kallis, AA Noffke, CL White, SB Jos...\n",
              "1            126.0  ...  I Sharma, AB Agarkar, LR Shukla, AB Dinda, SC ...\n",
              "2            468.0  ...  B Lee, IK Pathan, PP Chawla, K Goel, WA Mota, ...\n",
              "3            392.0  ...  Joginder Sharma, JDP Oram, M Muralitharan, MS ...\n",
              "4            244.0  ...  DL Vettori, MF Maharoof, GD McGrath, R Bhatia,...\n",
              "...            ...  ...                                                ...\n",
              "1659         296.0  ...  TA Boult, KH Pandya, M Jansen, RD Chahar, JJ B...\n",
              "1660         356.0  ...  R Ashwin, CR Woakes, A Mishra, MP Stoinis, Ave...\n",
              "1661         372.0  ...  SN Thakur, MM Ali, DJ Bravo, RA Jadeja, DL Cha...\n",
              "1662         360.0  ...  T Natarajan, Rashid Khan, Sandeep Sharma, Moha...\n",
              "1663         340.0  ...  PJ Cummins, CV Varun, Harbhajan Singh, M Prasi...\n",
              "\n",
              "[1664 rows x 3 columns]"
            ]
          },
          "metadata": {
            "tags": []
          },
          "execution_count": 144
        }
      ]
    },
    {
      "cell_type": "code",
      "metadata": {
        "id": "zA8Imr1FZeM2"
      },
      "source": [
        ""
      ],
      "execution_count": null,
      "outputs": []
    }
  ]
}