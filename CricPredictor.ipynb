{
  "nbformat": 4,
  "nbformat_minor": 0,
  "metadata": {
    "colab": {
      "name": "CricPredictor.ipynb",
      "provenance": [],
      "collapsed_sections": [],
      "toc_visible": true,
      "include_colab_link": true
    },
    "kernelspec": {
      "name": "python3",
      "display_name": "Python 3"
    },
    "language_info": {
      "name": "python"
    }
  },
  "cells": [
    {
      "cell_type": "markdown",
      "metadata": {
        "id": "view-in-github",
        "colab_type": "text"
      },
      "source": [
        "<a href=\"https://colab.research.google.com/github/sanjay-thiyagarajan/score-predictor/blob/main/CricPredictor.ipynb\" target=\"_parent\"><img src=\"https://colab.research.google.com/assets/colab-badge.svg\" alt=\"Open In Colab\"/></a>"
      ]
    },
    {
      "cell_type": "code",
      "metadata": {
        "id": "rNCTD1PSpmwd"
      },
      "source": [
        "!wget 'https://internalapp.nptel.ac.in/contest/reference_docs/ipl_csv2.zip'\n",
        "!mkdir '/content/dataset'\n",
        "!unzip '/content/ipl_csv2.zip' -d '/content/dataset'"
      ],
      "execution_count": null,
      "outputs": []
    },
    {
      "cell_type": "code",
      "metadata": {
        "id": "5loYEGB0p6GD"
      },
      "source": [
        "import pandas as pd\n",
        "import numpy as np\n",
        "import os\n",
        "from sklearn.linear_model import LinearRegression\n",
        "from sklearn.metrics import r2_score\n",
        "from sklearn.model_selection import train_test_split\n",
        "from sklearn.decomposition import PCA\n",
        "import warnings\n",
        "warnings.filterwarnings('ignore')"
      ],
      "execution_count": 52,
      "outputs": []
    },
    {
      "cell_type": "code",
      "metadata": {
        "id": "7Wip7TAv5LLO",
        "colab": {
          "base_uri": "https://localhost:8080/"
        },
        "outputId": "03b6466c-f344-47a5-f6cb-dc2fb2ae08ba"
      },
      "source": [
        "train_parent = []\n",
        "DATASET_DIR = '/content/dataset/'\n",
        "for file in os.listdir(DATASET_DIR):\n",
        "  filename = os.path.join(DATASET_DIR, file)\n",
        "  df = pd.read_csv(filename, error_bad_lines=False, header=0)\n",
        "  train_parent.append(df)\n",
        "train_parent = pd.concat(train_parent, axis=0, ignore_index=True)"
      ],
      "execution_count": 90,
      "outputs": [
        {
          "output_type": "stream",
          "text": [
            "b'Skipping line 7: expected 1 fields, saw 3\\nSkipping line 10: expected 1 fields, saw 2\\nSkipping line 13: expected 1 fields, saw 3\\nSkipping line 26: expected 1 fields, saw 2\\nSkipping line 29: expected 1 fields, saw 2\\nSkipping line 30: expected 1 fields, saw 2\\nSkipping line 33: expected 1 fields, saw 2\\nSkipping line 37: expected 1 fields, saw 2\\nSkipping line 38: expected 1 fields, saw 2\\nSkipping line 39: expected 1 fields, saw 2\\nSkipping line 42: expected 1 fields, saw 4\\nSkipping line 47: expected 1 fields, saw 2\\nSkipping line 74: expected 1 fields, saw 4\\nSkipping line 78: expected 1 fields, saw 3\\nSkipping line 81: expected 1 fields, saw 2\\nSkipping line 84: expected 1 fields, saw 5\\nSkipping line 85: expected 1 fields, saw 2\\nSkipping line 88: expected 1 fields, saw 2\\nSkipping line 89: expected 1 fields, saw 3\\nSkipping line 92: expected 1 fields, saw 2\\nSkipping line 95: expected 1 fields, saw 2\\nSkipping line 924: expected 1 fields, saw 2\\nSkipping line 925: expected 1 fields, saw 3\\n'\n"
          ],
          "name": "stderr"
        }
      ]
    },
    {
      "cell_type": "code",
      "metadata": {
        "id": "Im3GXpqKcCRC"
      },
      "source": [
        "power_play_df = train_parent[train_parent['ball']<=5.6]\n",
        "power_play_df = power_play_df[['match_id','innings', 'striker', 'bowler', 'runs_off_bat', 'extras']]\n",
        "people = list(np.array(train_parent[['striker']]).flatten()) + list(np.array(train_parent[['bowler']]).flatten())\n",
        "people = list(set(people))\n",
        "for p in people:\n",
        "  power_play_df[p] = [0]*power_play_df.shape[0]"
      ],
      "execution_count": 91,
      "outputs": []
    },
    {
      "cell_type": "code",
      "metadata": {
        "id": "-OwbNYThfglz"
      },
      "source": [
        "for index, row in power_play_df.iterrows():\n",
        "  power_play_df[row['striker']][index] = 1\n",
        "  power_play_df[row['bowler']][index] = 1"
      ],
      "execution_count": 92,
      "outputs": []
    },
    {
      "cell_type": "code",
      "metadata": {
        "id": "cyJYH-fgj29a"
      },
      "source": [
        "d = {'runs_off_bat': 'sum'}\n",
        "for p in people:\n",
        "  d[p] = 'mean'\n",
        "power_play_df = power_play_df.groupby(['match_id', 'innings'], as_index=False).aggregate(d)\n",
        "power_play_df['runs_off_bat'] /= 2\n",
        "for p in people:\n",
        "  power_play_df[p] = np.ceil(np.array(power_play_df[p]))"
      ],
      "execution_count": 93,
      "outputs": []
    },
    {
      "cell_type": "code",
      "metadata": {
        "id": "_DRUGmNglxgI"
      },
      "source": [
        "power_play_df = power_play_df.drop(columns=['match_id', 'innings'])"
      ],
      "execution_count": 94,
      "outputs": []
    },
    {
      "cell_type": "code",
      "metadata": {
        "id": "PeIg6DyGsrXs"
      },
      "source": [
        "X_train = np.array(power_play_df.drop(columns=['runs_off_bat']))\n",
        "Y_train = np.array(power_play_df[['runs_off_bat']])"
      ],
      "execution_count": 96,
      "outputs": []
    },
    {
      "cell_type": "code",
      "metadata": {
        "colab": {
          "base_uri": "https://localhost:8080/"
        },
        "id": "VcWDV2TVta-r",
        "outputId": "95f4eff4-d985-4698-d61c-224be8bfa4f1"
      },
      "source": [
        "regressor = LinearRegression(normalize=True)\n",
        "regressor.fit(X_train, Y_train)"
      ],
      "execution_count": 97,
      "outputs": [
        {
          "output_type": "execute_result",
          "data": {
            "text/plain": [
              "LinearRegression(copy_X=True, fit_intercept=True, n_jobs=None, normalize=True)"
            ]
          },
          "metadata": {
            "tags": []
          },
          "execution_count": 97
        }
      ]
    },
    {
      "cell_type": "code",
      "metadata": {
        "colab": {
          "base_uri": "https://localhost:8080/"
        },
        "id": "67GEdhPnthqp",
        "outputId": "78042a24-b031-4492-fb00-1db5addbe216"
      },
      "source": [
        "r2_score(Y_train, regressor.predict(X_train))"
      ],
      "execution_count": 98,
      "outputs": [
        {
          "output_type": "execute_result",
          "data": {
            "text/plain": [
              "0.4222745723658944"
            ]
          },
          "metadata": {
            "tags": []
          },
          "execution_count": 98
        }
      ]
    },
    {
      "cell_type": "code",
      "metadata": {
        "id": "gTchxFSwh7xl"
      },
      "source": [
        ""
      ],
      "execution_count": null,
      "outputs": []
    }
  ]
}